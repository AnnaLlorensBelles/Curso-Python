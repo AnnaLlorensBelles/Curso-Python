{
  "cells": [
    {
      "cell_type": "markdown",
      "metadata": {
        "id": "view-in-github",
        "colab_type": "text"
      },
      "source": [
        "<a href=\"https://colab.research.google.com/github/AnnaLlorensBelles/Curso-Python/blob/main/Ana_09_Series.ipynb\" target=\"_parent\"><img src=\"https://colab.research.google.com/assets/colab-badge.svg\" alt=\"Open In Colab\"/></a>"
      ]
    },
    {
      "cell_type": "code",
      "execution_count": null,
      "metadata": {
        "id": "maK0D7gRnzEb"
      },
      "outputs": [],
      "source": [
        "import pandas as pd"
      ]
    },
    {
      "cell_type": "markdown",
      "metadata": {
        "id": "eVgc05genzEP"
      },
      "source": [
        "# Ejercicio 1\n",
        "\n",
        "Obtener la versión de la librería pandas."
      ]
    },
    {
      "cell_type": "code",
      "source": [
        "pd.__version__"
      ],
      "metadata": {
        "id": "U0YIN7Hln3f_",
        "colab": {
          "base_uri": "https://localhost:8080/",
          "height": 35
        },
        "outputId": "eb6cc2fa-95a6-4651-98af-1a594bb5b42b"
      },
      "execution_count": null,
      "outputs": [
        {
          "output_type": "execute_result",
          "data": {
            "text/plain": [
              "'1.5.3'"
            ],
            "application/vnd.google.colaboratory.intrinsic+json": {
              "type": "string"
            }
          },
          "metadata": {},
          "execution_count": 3
        }
      ]
    },
    {
      "cell_type": "markdown",
      "metadata": {
        "id": "E-sKD9dYnzEf"
      },
      "source": [
        "# Ejercicio 2\n",
        "\n",
        "\n",
        "\n",
        "*   Convertir la lista dada en una estructura pandas Series.\n",
        "*   Comprueba su tamaño.\n",
        "* Utiliza el comando describe() y mira para qué sirve."
      ]
    },
    {
      "cell_type": "code",
      "source": [
        "datos = [2, 3, 5, 7, 11]\n",
        "\n",
        "serie = pd.Series(datos)\n",
        "serie\n",
        "len(serie) #para que nos diga la longitud o tamaño\n",
        "# otra forma: print(serie.size)\n",
        "serie.describe() #nos da diversos datos sobre la serie en cuestión"
      ],
      "metadata": {
        "id": "HWIzBJP0n4kP",
        "colab": {
          "base_uri": "https://localhost:8080/"
        },
        "outputId": "bf8c4548-e7e9-443f-ebeb-cf49b23da1d3"
      },
      "execution_count": null,
      "outputs": [
        {
          "output_type": "execute_result",
          "data": {
            "text/plain": [
              "count     5.000000\n",
              "mean      5.600000\n",
              "std       3.577709\n",
              "min       2.000000\n",
              "25%       3.000000\n",
              "50%       5.000000\n",
              "75%       7.000000\n",
              "max      11.000000\n",
              "dtype: float64"
            ]
          },
          "metadata": {},
          "execution_count": 11
        }
      ]
    },
    {
      "cell_type": "markdown",
      "metadata": {
        "id": "krqmjekUnzEo"
      },
      "source": [
        "# Ejercicio 3\n",
        "\n",
        "* Ahora vuelve a convertir la pandas series de antes a una lista Python.\n",
        "* Comprueba su tipo con la función type()\n",
        "\n"
      ]
    },
    {
      "cell_type": "code",
      "source": [
        "nueva_lista = list(serie) #una forma de hacerlo. Creamos una variable y le asignamos nuevo tipo de dato.\n",
        "type(nueva_lista)"
      ],
      "metadata": {
        "colab": {
          "base_uri": "https://localhost:8080/"
        },
        "id": "_FhiIx5hpLOE",
        "outputId": "97bc3963-01d9-4c4a-89b8-750c9aff288d"
      },
      "execution_count": null,
      "outputs": [
        {
          "output_type": "execute_result",
          "data": {
            "text/plain": [
              "list"
            ]
          },
          "metadata": {},
          "execution_count": 59
        }
      ]
    },
    {
      "cell_type": "code",
      "source": [
        "lista = serie.tolist() #otra forma de hacerlo\n",
        "type(lista)"
      ],
      "metadata": {
        "id": "UfLFUKoro6KX",
        "colab": {
          "base_uri": "https://localhost:8080/"
        },
        "outputId": "b37e458a-a7a5-4996-ea25-07f151f94637"
      },
      "execution_count": null,
      "outputs": [
        {
          "output_type": "execute_result",
          "data": {
            "text/plain": [
              "list"
            ]
          },
          "metadata": {},
          "execution_count": 14
        }
      ]
    },
    {
      "cell_type": "markdown",
      "metadata": {
        "id": "8utv2EKSnzEt"
      },
      "source": [
        "# Ejercicio 4\n",
        "\n",
        "Aplicar las operaciones aritméticas básicas sobre los objetos Series dados.\n",
        "\n",
        "Prueba a:\n",
        "* Sumar\n",
        "* Restar\n",
        "* Multiplicar\n",
        "* Dividir"
      ]
    },
    {
      "cell_type": "code",
      "source": [
        "serie1 = pd.Series([1, 2, 3, 4, 5])\n",
        "serie2 = pd.Series([9, 8, 7, 6, 5])"
      ],
      "metadata": {
        "id": "JNmHYi1PpVjm"
      },
      "execution_count": null,
      "outputs": []
    },
    {
      "cell_type": "code",
      "source": [
        "suma = serie1 + serie2\n",
        "print (suma)"
      ],
      "metadata": {
        "id": "o-X9CbZWppZ2",
        "colab": {
          "base_uri": "https://localhost:8080/"
        },
        "outputId": "a989b2fc-0ae4-4ca3-c8ed-313dea538600"
      },
      "execution_count": null,
      "outputs": [
        {
          "output_type": "stream",
          "name": "stdout",
          "text": [
            "0    10\n",
            "1    10\n",
            "2    10\n",
            "3    10\n",
            "4    10\n",
            "dtype: int64\n"
          ]
        }
      ]
    },
    {
      "cell_type": "code",
      "source": [
        "resta= serie1 - serie2\n",
        "print (resta)"
      ],
      "metadata": {
        "colab": {
          "base_uri": "https://localhost:8080/"
        },
        "id": "tqKlDhPwSlDQ",
        "outputId": "91c6fa4d-bda1-401d-d8e0-f90d65ae61db"
      },
      "execution_count": null,
      "outputs": [
        {
          "output_type": "stream",
          "name": "stdout",
          "text": [
            "0   -8\n",
            "1   -6\n",
            "2   -4\n",
            "3   -2\n",
            "4    0\n",
            "dtype: int64\n"
          ]
        }
      ]
    },
    {
      "cell_type": "code",
      "source": [
        "multiplicacion = serie1 * serie2\n",
        "print(multiplicacion)"
      ],
      "metadata": {
        "colab": {
          "base_uri": "https://localhost:8080/"
        },
        "id": "hbbGSLaPS7o-",
        "outputId": "c2c6f249-b261-415d-cbb0-e09afb15a210"
      },
      "execution_count": null,
      "outputs": [
        {
          "output_type": "stream",
          "name": "stdout",
          "text": [
            "0     9\n",
            "1    16\n",
            "2    21\n",
            "3    24\n",
            "4    25\n",
            "dtype: int64\n"
          ]
        }
      ]
    },
    {
      "cell_type": "code",
      "source": [
        "division= serie1/serie2\n",
        "print(division)"
      ],
      "metadata": {
        "colab": {
          "base_uri": "https://localhost:8080/"
        },
        "id": "SmRlHQ0qS9b_",
        "outputId": "00656cc4-c01b-4bdf-fa7f-a266dd3ce5ef"
      },
      "execution_count": null,
      "outputs": [
        {
          "output_type": "stream",
          "name": "stdout",
          "text": [
            "0    0.111111\n",
            "1    0.250000\n",
            "2    0.428571\n",
            "3    0.666667\n",
            "4    1.000000\n",
            "dtype: float64\n"
          ]
        }
      ]
    },
    {
      "cell_type": "code",
      "source": [
        "lista = [1,2,3,4,5,]\n",
        "lista.append(6) #así se añade un elemento a una lista con append\n",
        "lista"
      ],
      "metadata": {
        "colab": {
          "base_uri": "https://localhost:8080/"
        },
        "id": "naK2LhBiUy1a",
        "outputId": "24544a29-4656-4ddf-fb9c-eedfb17226e9"
      },
      "execution_count": null,
      "outputs": [
        {
          "output_type": "execute_result",
          "data": {
            "text/plain": [
              "[1, 2, 3, 4, 5, 6]"
            ]
          },
          "metadata": {},
          "execution_count": 24
        }
      ]
    },
    {
      "cell_type": "code",
      "source": [
        "lista = [0,1,2,3,4,5,6]\n",
        "lista.insert(8,7) #así se añade un elemento a una lista con insert,\n",
        "# donde la primera cifra entre paréntesis es la posición en la que debe insertar\n",
        "# la cifra que aparece en segundo lugar entre paréntesis, tras la coma.\n",
        "lista"
      ],
      "metadata": {
        "colab": {
          "base_uri": "https://localhost:8080/"
        },
        "id": "P3i2uqHZWunn",
        "outputId": "8640391e-1d9d-4df7-830b-34e80dbd3bcc"
      },
      "execution_count": null,
      "outputs": [
        {
          "output_type": "execute_result",
          "data": {
            "text/plain": [
              "[0, 1, 2, 3, 4, 5, 6, 7]"
            ]
          },
          "metadata": {},
          "execution_count": 27
        }
      ]
    },
    {
      "cell_type": "markdown",
      "metadata": {
        "id": "40W856j3nzEw"
      },
      "source": [
        "# Ejercicio 5\n",
        "\n",
        "Usar operadores relacionales para comparar los objetos Series dados.\n",
        "\n"
      ]
    },
    {
      "cell_type": "code",
      "execution_count": null,
      "metadata": {
        "id": "ZfnLx8YQnzEx"
      },
      "outputs": [],
      "source": [
        "serie1 = pd.Series([1, 2, 3, 5, 7])\n",
        "serie2 = pd.Series([13, 17, 11, 5, 3])"
      ]
    },
    {
      "cell_type": "code",
      "source": [
        "iguales= (serie1 == serie2)\n",
        "print (iguales)"
      ],
      "metadata": {
        "id": "AeP1fbBqpvry",
        "colab": {
          "base_uri": "https://localhost:8080/"
        },
        "outputId": "1f7e9553-3844-4743-d1dd-9b5de5e726cc"
      },
      "execution_count": null,
      "outputs": [
        {
          "output_type": "stream",
          "name": "stdout",
          "text": [
            "0    False\n",
            "1    False\n",
            "2    False\n",
            "3     True\n",
            "4    False\n",
            "dtype: bool\n"
          ]
        }
      ]
    },
    {
      "cell_type": "markdown",
      "source": [
        "¿Qué ocurre? ¿Se comparan todos los elementos? ¿Se compara el objeto únicamente...?"
      ],
      "metadata": {
        "id": "uinEf0dbqhTg"
      }
    },
    {
      "cell_type": "code",
      "source": [
        "mayorque= (serie1>serie2)\n",
        "print (mayorque)"
      ],
      "metadata": {
        "colab": {
          "base_uri": "https://localhost:8080/"
        },
        "id": "2L3GoLVqX93-",
        "outputId": "ad4ddc1c-056a-4503-fea3-4981b2297307"
      },
      "execution_count": null,
      "outputs": [
        {
          "output_type": "stream",
          "name": "stdout",
          "text": [
            "0    False\n",
            "1    False\n",
            "2    False\n",
            "3    False\n",
            "4     True\n",
            "dtype: bool\n"
          ]
        }
      ]
    },
    {
      "cell_type": "code",
      "source": [
        "menorque = (serie1<serie2)\n",
        "print (menorque)"
      ],
      "metadata": {
        "colab": {
          "base_uri": "https://localhost:8080/"
        },
        "id": "yCvFOHykYPZL",
        "outputId": "41aaaa94-0b46-4438-c28d-8d1bb171ef25"
      },
      "execution_count": null,
      "outputs": [
        {
          "output_type": "stream",
          "name": "stdout",
          "text": [
            "0     True\n",
            "1     True\n",
            "2     True\n",
            "3    False\n",
            "4    False\n",
            "dtype: bool\n"
          ]
        }
      ]
    },
    {
      "cell_type": "code",
      "source": [
        "diferente= serie1!=serie2\n",
        "print (diferente)"
      ],
      "metadata": {
        "colab": {
          "base_uri": "https://localhost:8080/"
        },
        "id": "Ui0pPQBxYY_x",
        "outputId": "d08085ed-582b-4a85-d6ab-616b70cbc516"
      },
      "execution_count": null,
      "outputs": [
        {
          "output_type": "stream",
          "name": "stdout",
          "text": [
            "0     True\n",
            "1     True\n",
            "2     True\n",
            "3    False\n",
            "4     True\n",
            "dtype: bool\n"
          ]
        }
      ]
    },
    {
      "cell_type": "markdown",
      "source": [
        "Se comparan todos los elementos uno a uno y nos devuelve un valor booleano (True/False)\n",
        "\n",
        "```\n",
        "Introduce aquí tu respuesta\n",
        "```\n",
        "\n"
      ],
      "metadata": {
        "id": "IyYj00koq0Iu"
      }
    },
    {
      "cell_type": "code",
      "source": [
        "mayorigual= serie1>=serie2\n",
        "print(mayorigual)"
      ],
      "metadata": {
        "colab": {
          "base_uri": "https://localhost:8080/"
        },
        "id": "HpSqhXbiYkV5",
        "outputId": "e3ce0438-3fdc-41e9-c59c-90862157cb77"
      },
      "execution_count": null,
      "outputs": [
        {
          "output_type": "stream",
          "name": "stdout",
          "text": [
            "0    False\n",
            "1    False\n",
            "2    False\n",
            "3     True\n",
            "4     True\n",
            "dtype: bool\n"
          ]
        }
      ]
    },
    {
      "cell_type": "code",
      "source": [
        "menorigual= serie1<=serie2\n",
        "print(menorigual)"
      ],
      "metadata": {
        "colab": {
          "base_uri": "https://localhost:8080/"
        },
        "id": "L4rXvcriYt4R",
        "outputId": "8256ad4e-8a1b-43de-e489-03cbbb56bc0a"
      },
      "execution_count": null,
      "outputs": [
        {
          "output_type": "stream",
          "name": "stdout",
          "text": [
            "0     True\n",
            "1     True\n",
            "2     True\n",
            "3     True\n",
            "4    False\n",
            "dtype: bool\n"
          ]
        }
      ]
    },
    {
      "cell_type": "markdown",
      "metadata": {
        "id": "Mu9fMnItnzE0"
      },
      "source": [
        "# Ejercicio 6\n",
        "\n",
        "\n",
        "\n",
        "*   Convertir el diccionario Python en un objeto Series.\n",
        "*   Intenta imprimir en pantalla algún valor de la serie.\n",
        "\n",
        "PD: Fíjate como accedemos al valor.\n",
        "\n",
        "\n",
        "\n"
      ]
    },
    {
      "cell_type": "code",
      "source": [
        "datos = {'a': 10, 'b': 20, 'c': 30, 'd': 40}\n",
        "serie = pd.Series(datos)\n",
        "print (serie)"
      ],
      "metadata": {
        "id": "QuUYkJE3rIwU",
        "colab": {
          "base_uri": "https://localhost:8080/"
        },
        "outputId": "ad578272-a01b-463c-aad5-1d92c22b2ad3"
      },
      "execution_count": null,
      "outputs": [
        {
          "output_type": "stream",
          "name": "stdout",
          "text": [
            "a    10\n",
            "b    20\n",
            "c    30\n",
            "d    40\n",
            "dtype: int64\n"
          ]
        }
      ]
    },
    {
      "cell_type": "code",
      "source": [
        "serie['c'] # con notación de slicing obtenemos el dato correspondiente a la posición determinada por la letra"
      ],
      "metadata": {
        "colab": {
          "base_uri": "https://localhost:8080/"
        },
        "id": "R7Ytzm6HrQS5",
        "outputId": "23741204-e555-47c3-c606-01bd9a259a77"
      },
      "execution_count": null,
      "outputs": [
        {
          "output_type": "execute_result",
          "data": {
            "text/plain": [
              "30"
            ]
          },
          "metadata": {},
          "execution_count": 63
        }
      ]
    },
    {
      "cell_type": "markdown",
      "metadata": {
        "id": "9emLAfs2nzE1"
      },
      "source": [
        "# Ejercicio 7\n",
        "\n",
        "Crea un array NumPy y conviertelo en un objeto Series.\n",
        "(Array significa vector)\n",
        "\n"
      ]
    },
    {
      "cell_type": "code",
      "execution_count": null,
      "metadata": {
        "id": "HUgxTZ7gnzE2"
      },
      "outputs": [],
      "source": [
        "#Crea un array NumPy\n",
        "import numpy as np\n",
        "vector = np.array([1,2,3,4,5])"
      ]
    },
    {
      "cell_type": "code",
      "source": [
        "#Conviertelo en un objeto Series.\n",
        "vector_serie = pd.Series(vector)\n",
        "print(vector_serie)"
      ],
      "metadata": {
        "id": "murDJSj5smcO",
        "colab": {
          "base_uri": "https://localhost:8080/"
        },
        "outputId": "30f05b69-2ebe-438c-9129-f737bffee95b"
      },
      "execution_count": null,
      "outputs": [
        {
          "output_type": "stream",
          "name": "stdout",
          "text": [
            "0    1\n",
            "1    2\n",
            "2    3\n",
            "3    4\n",
            "4    5\n",
            "dtype: int64\n"
          ]
        }
      ]
    },
    {
      "cell_type": "markdown",
      "metadata": {
        "id": "RqLH1mb5nzE4"
      },
      "source": [
        "# Ejercicio 8\n",
        "\n",
        "Cambiar el tipo de datos de un objeto Series.\n",
        "\n",
        "\n",
        "\n",
        "*   Cambiar la siguiente serie de Strings en númerica\n",
        "\n"
      ]
    },
    {
      "cell_type": "code",
      "source": [
        "datos = pd.Series(['100', '200', '', '300.15', '500.8'])\n",
        "serie_numerica = pd.to_numeric(datos, errors='coerce')\n",
        "print(serie_numerica)"
      ],
      "metadata": {
        "id": "wsIJSY4vv5XC",
        "colab": {
          "base_uri": "https://localhost:8080/"
        },
        "outputId": "20ed5e3b-9b37-4630-d15e-e949abd4bb36"
      },
      "execution_count": null,
      "outputs": [
        {
          "output_type": "stream",
          "name": "stdout",
          "text": [
            "0    100.00\n",
            "1    200.00\n",
            "2       NaN\n",
            "3    300.15\n",
            "4    500.80\n",
            "dtype: float64\n"
          ]
        }
      ]
    },
    {
      "cell_type": "markdown",
      "source": [
        "En este ejemplo, utilizamos la función pd.to_numeric() de pandas para convertir la serie datos en una serie numérica. El argumento errors='coerce' se utiliza para que los valores que no se pueden convertir sean establecidos como NaN en lugar de generar un error.\n",
        "\n",
        "Como puedes ver, los valores de la serie se han convertido en números, y los valores que no se pudieron convertir, como la cadena vacía en el índice 2, se establecieron como NaN (valores faltantes) en la serie numérica resultante.\n",
        "\n",
        "Esta función pd.to_numeric() es útil cuando se necesita convertir una serie con diferentes formatos de valores en una serie numérica. Sin embargo, debes tener en cuenta que si necesitas trabajar con valores numéricos específicos, es posible que desees manejar y tratar los NaN según tus necesidades antes de realizar cálculos o análisis adicionales."
      ],
      "metadata": {
        "id": "t5DhPWRShYyI"
      }
    },
    {
      "cell_type": "code",
      "source": [
        "datos = pd.Series(['100', '200', '', '300.15', '500.8'])\n",
        "datos.astype(float, errors='ignore')"
      ],
      "metadata": {
        "colab": {
          "base_uri": "https://localhost:8080/"
        },
        "id": "2bUKLISGturk",
        "outputId": "ec2f8446-7da3-4134-cb4a-48041f6c012d"
      },
      "execution_count": null,
      "outputs": [
        {
          "output_type": "execute_result",
          "data": {
            "text/plain": [
              "0       100\n",
              "1       200\n",
              "2          \n",
              "3    300.15\n",
              "4     500.8\n",
              "dtype: object"
            ]
          },
          "metadata": {},
          "execution_count": 67
        }
      ]
    },
    {
      "cell_type": "markdown",
      "source": [
        "Hay que decirle qué hacer con el valor '' porque como no es número nos daría error. De ahí que al lado del tipo de dato que queremos le especificamos qué hacer con los errores."
      ],
      "metadata": {
        "id": "eByM19fVuPgy"
      }
    },
    {
      "cell_type": "markdown",
      "metadata": {
        "id": "y-hphByznzE6"
      },
      "source": [
        "# Ejercicio 9\n",
        "\n",
        "Obtener una columna de un objeto DataFrame como un objeto Series.\n",
        "\n",
        "Para obtener una columna de un objeto DataFrame como un objeto Series en pandas, puedes utilizar la notación de corchetes ([]) y pasar el nombre de la columna como índice del DataFrame. Aquí tienes un ejemplo utilizando el DataFrame datos proporcionado:"
      ]
    },
    {
      "cell_type": "code",
      "execution_count": null,
      "metadata": {
        "id": "X_HrMF_BnzE7",
        "colab": {
          "base_uri": "https://localhost:8080/",
          "height": 206
        },
        "outputId": "e7818253-f843-4a79-d007-4332903f56a2"
      },
      "outputs": [
        {
          "output_type": "execute_result",
          "data": {
            "text/plain": [
              "   A  B   C\n",
              "0  1  9   2\n",
              "1  2  8   3\n",
              "2  3  7   5\n",
              "3  4  6   7\n",
              "4  5  5  11"
            ],
            "text/html": [
              "\n",
              "  <div id=\"df-5277263a-628a-416a-983c-f247ae217cd3\">\n",
              "    <div class=\"colab-df-container\">\n",
              "      <div>\n",
              "<style scoped>\n",
              "    .dataframe tbody tr th:only-of-type {\n",
              "        vertical-align: middle;\n",
              "    }\n",
              "\n",
              "    .dataframe tbody tr th {\n",
              "        vertical-align: top;\n",
              "    }\n",
              "\n",
              "    .dataframe thead th {\n",
              "        text-align: right;\n",
              "    }\n",
              "</style>\n",
              "<table border=\"1\" class=\"dataframe\">\n",
              "  <thead>\n",
              "    <tr style=\"text-align: right;\">\n",
              "      <th></th>\n",
              "      <th>A</th>\n",
              "      <th>B</th>\n",
              "      <th>C</th>\n",
              "    </tr>\n",
              "  </thead>\n",
              "  <tbody>\n",
              "    <tr>\n",
              "      <th>0</th>\n",
              "      <td>1</td>\n",
              "      <td>9</td>\n",
              "      <td>2</td>\n",
              "    </tr>\n",
              "    <tr>\n",
              "      <th>1</th>\n",
              "      <td>2</td>\n",
              "      <td>8</td>\n",
              "      <td>3</td>\n",
              "    </tr>\n",
              "    <tr>\n",
              "      <th>2</th>\n",
              "      <td>3</td>\n",
              "      <td>7</td>\n",
              "      <td>5</td>\n",
              "    </tr>\n",
              "    <tr>\n",
              "      <th>3</th>\n",
              "      <td>4</td>\n",
              "      <td>6</td>\n",
              "      <td>7</td>\n",
              "    </tr>\n",
              "    <tr>\n",
              "      <th>4</th>\n",
              "      <td>5</td>\n",
              "      <td>5</td>\n",
              "      <td>11</td>\n",
              "    </tr>\n",
              "  </tbody>\n",
              "</table>\n",
              "</div>\n",
              "      <button class=\"colab-df-convert\" onclick=\"convertToInteractive('df-5277263a-628a-416a-983c-f247ae217cd3')\"\n",
              "              title=\"Convert this dataframe to an interactive table.\"\n",
              "              style=\"display:none;\">\n",
              "        \n",
              "  <svg xmlns=\"http://www.w3.org/2000/svg\" height=\"24px\"viewBox=\"0 0 24 24\"\n",
              "       width=\"24px\">\n",
              "    <path d=\"M0 0h24v24H0V0z\" fill=\"none\"/>\n",
              "    <path d=\"M18.56 5.44l.94 2.06.94-2.06 2.06-.94-2.06-.94-.94-2.06-.94 2.06-2.06.94zm-11 1L8.5 8.5l.94-2.06 2.06-.94-2.06-.94L8.5 2.5l-.94 2.06-2.06.94zm10 10l.94 2.06.94-2.06 2.06-.94-2.06-.94-.94-2.06-.94 2.06-2.06.94z\"/><path d=\"M17.41 7.96l-1.37-1.37c-.4-.4-.92-.59-1.43-.59-.52 0-1.04.2-1.43.59L10.3 9.45l-7.72 7.72c-.78.78-.78 2.05 0 2.83L4 21.41c.39.39.9.59 1.41.59.51 0 1.02-.2 1.41-.59l7.78-7.78 2.81-2.81c.8-.78.8-2.07 0-2.86zM5.41 20L4 18.59l7.72-7.72 1.47 1.35L5.41 20z\"/>\n",
              "  </svg>\n",
              "      </button>\n",
              "      \n",
              "  <style>\n",
              "    .colab-df-container {\n",
              "      display:flex;\n",
              "      flex-wrap:wrap;\n",
              "      gap: 12px;\n",
              "    }\n",
              "\n",
              "    .colab-df-convert {\n",
              "      background-color: #E8F0FE;\n",
              "      border: none;\n",
              "      border-radius: 50%;\n",
              "      cursor: pointer;\n",
              "      display: none;\n",
              "      fill: #1967D2;\n",
              "      height: 32px;\n",
              "      padding: 0 0 0 0;\n",
              "      width: 32px;\n",
              "    }\n",
              "\n",
              "    .colab-df-convert:hover {\n",
              "      background-color: #E2EBFA;\n",
              "      box-shadow: 0px 1px 2px rgba(60, 64, 67, 0.3), 0px 1px 3px 1px rgba(60, 64, 67, 0.15);\n",
              "      fill: #174EA6;\n",
              "    }\n",
              "\n",
              "    [theme=dark] .colab-df-convert {\n",
              "      background-color: #3B4455;\n",
              "      fill: #D2E3FC;\n",
              "    }\n",
              "\n",
              "    [theme=dark] .colab-df-convert:hover {\n",
              "      background-color: #434B5C;\n",
              "      box-shadow: 0px 1px 3px 1px rgba(0, 0, 0, 0.15);\n",
              "      filter: drop-shadow(0px 1px 2px rgba(0, 0, 0, 0.3));\n",
              "      fill: #FFFFFF;\n",
              "    }\n",
              "  </style>\n",
              "\n",
              "      <script>\n",
              "        const buttonEl =\n",
              "          document.querySelector('#df-5277263a-628a-416a-983c-f247ae217cd3 button.colab-df-convert');\n",
              "        buttonEl.style.display =\n",
              "          google.colab.kernel.accessAllowed ? 'block' : 'none';\n",
              "\n",
              "        async function convertToInteractive(key) {\n",
              "          const element = document.querySelector('#df-5277263a-628a-416a-983c-f247ae217cd3');\n",
              "          const dataTable =\n",
              "            await google.colab.kernel.invokeFunction('convertToInteractive',\n",
              "                                                     [key], {});\n",
              "          if (!dataTable) return;\n",
              "\n",
              "          const docLinkHtml = 'Like what you see? Visit the ' +\n",
              "            '<a target=\"_blank\" href=https://colab.research.google.com/notebooks/data_table.ipynb>data table notebook</a>'\n",
              "            + ' to learn more about interactive tables.';\n",
              "          element.innerHTML = '';\n",
              "          dataTable['output_type'] = 'display_data';\n",
              "          await google.colab.output.renderOutput(dataTable, element);\n",
              "          const docLink = document.createElement('div');\n",
              "          docLink.innerHTML = docLinkHtml;\n",
              "          element.appendChild(docLink);\n",
              "        }\n",
              "      </script>\n",
              "    </div>\n",
              "  </div>\n",
              "  "
            ]
          },
          "metadata": {},
          "execution_count": 48
        }
      ],
      "source": [
        "datos = {'A': [1, 2, 3, 4, 5], 'B': [9, 8, 7, 6, 5], 'C': [2, 3, 5, 7, 11]}\n",
        "\n",
        "df = pd.DataFrame(data=datos)\n",
        "\n",
        "df"
      ]
    },
    {
      "cell_type": "markdown",
      "source": [
        "En este ejemplo, creamos el DataFrame df a partir del diccionario datos. Luego, utilizamos df['A'] (notación de slicing) para obtener la columna 'A' del DataFrame como un objeto Series y la asignamos a la variable serie_columna. Finalmente, imprimimos serie_columna."
      ],
      "metadata": {
        "id": "1-Znidu_ihf0"
      }
    },
    {
      "cell_type": "code",
      "source": [
        "# Obtener una columna como un objeto Series\n",
        "serie_columna = df['A']\n",
        "\n",
        "print(serie_columna)"
      ],
      "metadata": {
        "id": "5REjKk-p20Tn",
        "colab": {
          "base_uri": "https://localhost:8080/"
        },
        "outputId": "876003f3-07c6-4d8e-9156-ff76977a730c"
      },
      "execution_count": null,
      "outputs": [
        {
          "output_type": "stream",
          "name": "stdout",
          "text": [
            "0    1\n",
            "1    2\n",
            "2    3\n",
            "3    4\n",
            "4    5\n",
            "Name: A, dtype: int64\n"
          ]
        }
      ]
    },
    {
      "cell_type": "markdown",
      "source": [
        "Como puedes ver, obtenemos la columna 'A' del DataFrame como un objeto Series, donde los valores son los mismos que los de la columna 'A' del DataFrame, y el nombre de la Serie es 'A'.\n",
        "\n",
        "De esta manera, puedes obtener cualquier columna de un DataFrame como un objeto Series utilizando la notación de corchetes y el nombre de la columna correspondiente."
      ],
      "metadata": {
        "id": "ovatuf5OiuaD"
      }
    },
    {
      "cell_type": "markdown",
      "metadata": {
        "id": "Vj68yTbFnzE_"
      },
      "source": [
        "# Ejercicio 10 (Opcional)\n",
        "\n",
        "Convertir un objeto Series con múltiples listas en un único objeto Series.\n",
        "\n"
      ]
    },
    {
      "cell_type": "code",
      "execution_count": null,
      "metadata": {
        "id": "xmbacHLSnzE_",
        "outputId": "94d89b58-7376-4a29-a555-f98de8ec52ec",
        "colab": {
          "base_uri": "https://localhost:8080/"
        }
      },
      "outputs": [
        {
          "output_type": "execute_result",
          "data": {
            "text/plain": [
              "0    [Colombia, Perú, Argentina]\n",
              "1             [Bolivia, Uruguay]\n",
              "2                        [Chile]\n",
              "dtype: object"
            ]
          },
          "metadata": {},
          "execution_count": 53
        }
      ],
      "source": [
        "datos = [['Colombia', 'Perú', 'Argentina'], ['Bolivia', 'Uruguay'], ['Chile']]\n",
        "\n",
        "serie = pd.Series(datos)\n",
        "\n",
        "serie"
      ]
    },
    {
      "cell_type": "code",
      "source": [
        "serie_unica = serie.explode()\n",
        "print(serie_unica)"
      ],
      "metadata": {
        "id": "hsSmIGvZ2-qg",
        "colab": {
          "base_uri": "https://localhost:8080/"
        },
        "outputId": "e98d2af7-8481-467f-f981-d4a740bda84f"
      },
      "execution_count": null,
      "outputs": [
        {
          "output_type": "stream",
          "name": "stdout",
          "text": [
            "0     Colombia\n",
            "0         Perú\n",
            "0    Argentina\n",
            "1      Bolivia\n",
            "1      Uruguay\n",
            "2        Chile\n",
            "dtype: object\n"
          ]
        }
      ]
    },
    {
      "cell_type": "markdown",
      "source": [
        "El objeto Series serie_unica contiene todos los elementos de las listas en una única serie, con índices repetidos para indicar el origen de cada elemento."
      ],
      "metadata": {
        "id": "oPhqb_aAnmZR"
      }
    },
    {
      "cell_type": "markdown",
      "metadata": {
        "id": "vK92e8xpnzFB"
      },
      "source": [
        "# Ejercicio 11\n",
        "\n",
        "Ordenar los valores de un objeto Series con el método sort_values.\n",
        "\n",
        "Para ordenar los valores de un objeto Series en pandas, puedes utilizar el método sort_values(). Sin embargo, ten en cuenta que los valores deben ser compatibles con algún tipo de ordenamiento. En tu caso, los valores de la serie son de diferentes tipos, por lo que no se puede realizar un ordenamiento numérico o alfabético directamente.\n",
        "\n",
        "Si deseas ordenar la serie en base a los valores de manera alfabética, puedes convertir los valores a cadenas de texto y utilizar sort_values() de la siguiente manera:\n",
        "\n"
      ]
    },
    {
      "cell_type": "code",
      "execution_count": null,
      "metadata": {
        "id": "TVDm-BdjnzFC",
        "outputId": "dc09f310-8edc-486f-c76c-d90b155ad617",
        "colab": {
          "base_uri": "https://localhost:8080/"
        }
      },
      "outputs": [
        {
          "output_type": "execute_result",
          "data": {
            "text/plain": [
              "0       1.1\n",
              "1    Python\n",
              "2       0.5\n",
              "3    pandas\n",
              "4       2.8\n",
              "dtype: object"
            ]
          },
          "metadata": {},
          "execution_count": 68
        }
      ],
      "source": [
        "datos = ['1.1', 'Python', '0.5', 'pandas', '2.8']\n",
        "\n",
        "serie = pd.Series(datos)\n",
        "\n",
        "serie"
      ]
    },
    {
      "cell_type": "code",
      "source": [
        "serie.sort_values() #una forma"
      ],
      "metadata": {
        "colab": {
          "base_uri": "https://localhost:8080/"
        },
        "id": "hmDMXZtlvXiG",
        "outputId": "7d9e55b2-2ba3-4d98-91b8-d3d2ab356880"
      },
      "execution_count": null,
      "outputs": [
        {
          "output_type": "execute_result",
          "data": {
            "text/plain": [
              "2       0.5\n",
              "0       1.1\n",
              "4       2.8\n",
              "1    Python\n",
              "3    pandas\n",
              "dtype: object"
            ]
          },
          "metadata": {},
          "execution_count": 69
        }
      ]
    },
    {
      "cell_type": "code",
      "source": [
        "serie_ordenada = serie.astype(str).sort_values() #otra forma\n",
        "\n",
        "print(serie_ordenada)"
      ],
      "metadata": {
        "colab": {
          "base_uri": "https://localhost:8080/"
        },
        "id": "cNycu7LEokNe",
        "outputId": "c3e0a8c2-d579-44a8-a391-42dd8ac84761"
      },
      "execution_count": null,
      "outputs": [
        {
          "output_type": "stream",
          "name": "stdout",
          "text": [
            "2       0.5\n",
            "0       1.1\n",
            "4       2.8\n",
            "1    Python\n",
            "3    pandas\n",
            "dtype: object\n"
          ]
        }
      ]
    },
    {
      "cell_type": "markdown",
      "source": [
        "En este ejemplo, primero utilizamos astype(str) para convertir todos los valores de la serie a cadenas de texto y luego aplicamos sort_values() para ordenarlos alfabéticamente. Observa que la serie resultante tiene los valores ordenados de forma ascendente.\n",
        "\n",
        "Si deseas realizar un ordenamiento numérico, primero debes asegurarte de que los valores sean números válidos. En tu caso, algunos valores como 'Python' no son números y no se pueden convertir directamente. Si solo deseas ordenar los valores numéricos, puedes eliminar los valores no numéricos o asignarles un valor especial antes de realizar el ordenamiento."
      ],
      "metadata": {
        "id": "1R7W2WwUo0QN"
      }
    },
    {
      "cell_type": "code",
      "source": [],
      "metadata": {
        "id": "AJakP7yq3bQH"
      },
      "execution_count": null,
      "outputs": []
    },
    {
      "cell_type": "markdown",
      "metadata": {
        "id": "QiWBj_XEnzFE"
      },
      "source": [
        "# Ejercicio 12\n",
        "\n",
        "Agregar datos a un objeto Series existente.\n",
        "\n",
        "* Usa el método append()\n",
        "* IMPORTANTE: Si estamos trabajando con pandas series y aplicamos el método append(), espera recibir como argumento una pandas series."
      ]
    },
    {
      "cell_type": "code",
      "execution_count": null,
      "metadata": {
        "id": "skbUWSiMnzFF",
        "outputId": "cf031e01-f72e-450c-ffb6-ed66a6260e76"
      },
      "outputs": [
        {
          "data": {
            "text/plain": [
              "0    Python\n",
              "1        C#\n",
              "2       C++\n",
              "3      Java\n",
              "4       PHP\n",
              "dtype: object"
            ]
          },
          "execution_count": 59,
          "metadata": {},
          "output_type": "execute_result"
        }
      ],
      "source": [
        "datos = ['Python', 'C#', 'C++', 'Java', 'PHP']\n",
        "\n",
        "serie = pd.Series(datos)\n",
        "\n",
        "serie"
      ]
    },
    {
      "cell_type": "code",
      "source": [
        "lista = ['Javascript']\n",
        "serie2 = pd.Series(lista)\n",
        "\n",
        "serie.append(serie2)"
      ],
      "metadata": {
        "id": "ujhC2f9P4OtZ",
        "colab": {
          "base_uri": "https://localhost:8080/"
        },
        "outputId": "9b15c004-d403-4113-a80f-24eec59057bc"
      },
      "execution_count": null,
      "outputs": [
        {
          "output_type": "stream",
          "name": "stderr",
          "text": [
            "<ipython-input-70-0cd91bb85150>:4: FutureWarning: The series.append method is deprecated and will be removed from pandas in a future version. Use pandas.concat instead.\n",
            "  serie.append(serie2)\n"
          ]
        },
        {
          "output_type": "execute_result",
          "data": {
            "text/plain": [
              "0           1.1\n",
              "1        Python\n",
              "2           0.5\n",
              "3        pandas\n",
              "4           2.8\n",
              "0    Javascript\n",
              "dtype: object"
            ]
          },
          "metadata": {},
          "execution_count": 70
        }
      ]
    },
    {
      "cell_type": "markdown",
      "metadata": {
        "id": "IXS4BdYJnzFG"
      },
      "source": [
        "# Ejercicio 13\n",
        "\n",
        "Crear un objeto Series a partir de un filtro aplicado a otro objeto Series.\n",
        "\n",
        "Quédate con los datos que sean menores de 6."
      ]
    },
    {
      "cell_type": "code",
      "execution_count": null,
      "metadata": {
        "id": "ZC9oOInCnzFG",
        "outputId": "5a67b8d1-f30d-412c-ec9b-1c208283758d"
      },
      "outputs": [
        {
          "data": {
            "text/plain": [
              "0    0\n",
              "1    1\n",
              "2    2\n",
              "3    3\n",
              "4    4\n",
              "5    5\n",
              "6    6\n",
              "7    7\n",
              "8    8\n",
              "9    9\n",
              "dtype: int64"
            ]
          },
          "execution_count": 62,
          "metadata": {},
          "output_type": "execute_result"
        }
      ],
      "source": [
        "datos = [0, 1, 7, 3, 4, 5, 6, 7, 8, 9]\n",
        "\n",
        "serie = pd.Series(datos)\n",
        "\n",
        "serie"
      ]
    },
    {
      "cell_type": "code",
      "source": [],
      "metadata": {
        "id": "vyC4TQgK5or4"
      },
      "execution_count": null,
      "outputs": []
    },
    {
      "cell_type": "markdown",
      "metadata": {
        "id": "QOdb-mqRnzFH"
      },
      "source": [
        "# Ejercicio 14\n",
        "\n",
        "* Tenemos un objeto series con letras como Indices y números como valores\n",
        "* Cambiar el orden del índice de un objeto Series.\n",
        "* El orden tiene que ser: ['B', 'A', 'C', 'D', 'E']\n",
        "\n",
        "PISTA: Podrías buscar en internet how to change index order series python\n",
        "\n"
      ]
    },
    {
      "cell_type": "code",
      "execution_count": null,
      "metadata": {
        "id": "UcXjfbsznzFI",
        "outputId": "19d4a32c-5930-47bd-dc9d-cfbd0279bd2e"
      },
      "outputs": [
        {
          "data": {
            "text/plain": [
              "A    1\n",
              "B    2\n",
              "C    3\n",
              "D    4\n",
              "E    5\n",
              "dtype: int64"
            ]
          },
          "execution_count": 65,
          "metadata": {},
          "output_type": "execute_result"
        }
      ],
      "source": [
        "datos = [1, 2, 3, 4, 5]\n",
        "\n",
        "indices = ['A', 'B', 'C', 'D', 'E']\n",
        "\n",
        "serie = pd.Series(data=datos, index=indices)\n",
        "\n",
        "serie"
      ]
    },
    {
      "cell_type": "code",
      "source": [],
      "metadata": {
        "id": "kMG4TMbl6LdA"
      },
      "execution_count": null,
      "outputs": []
    },
    {
      "cell_type": "markdown",
      "metadata": {
        "id": "nSxpankfnzFJ"
      },
      "source": [
        "# Ejercicio 15\n",
        "\n",
        "Obtener la desviación estándar y el promedio de un conjunto de datos de una serie.\n",
        "\n"
      ]
    },
    {
      "cell_type": "code",
      "execution_count": null,
      "metadata": {
        "id": "qMIzjyE1nzFJ",
        "outputId": "d1e6f9b8-3b33-4796-f3be-6b2de2da950f"
      },
      "outputs": [
        {
          "data": {
            "text/plain": [
              "0     2\n",
              "1     3\n",
              "2     5\n",
              "3     7\n",
              "4    11\n",
              "5    13\n",
              "6    17\n",
              "7    19\n",
              "8    23\n",
              "9    29\n",
              "dtype: int64"
            ]
          },
          "execution_count": 68,
          "metadata": {},
          "output_type": "execute_result"
        }
      ],
      "source": [
        "datos = [2, 3, 5, 7, 11, 13, 17, 19, 23, 29]\n",
        "\n",
        "serie = pd.Series(datos)\n",
        "\n",
        "serie"
      ]
    },
    {
      "cell_type": "code",
      "source": [],
      "metadata": {
        "id": "2qxYp0Y4Dc61"
      },
      "execution_count": null,
      "outputs": []
    },
    {
      "cell_type": "markdown",
      "metadata": {
        "id": "ViV7yVFsnzFL"
      },
      "source": [
        "# Ejercicio 16\n",
        "\n",
        "Calcular los valores mínimo y máximo de un objeto Series.\n",
        "\n"
      ]
    },
    {
      "cell_type": "code",
      "execution_count": null,
      "metadata": {
        "id": "8K3lPRR_nzFL",
        "outputId": "6e54d040-d802-434a-f5d9-2c3c30337a6e"
      },
      "outputs": [
        {
          "data": {
            "text/plain": [
              "0    19\n",
              "1     2\n",
              "2    13\n",
              "3     0\n",
              "4    23\n",
              "5    29\n",
              "6    11\n",
              "7     7\n",
              "dtype: int64"
            ]
          },
          "execution_count": 72,
          "metadata": {},
          "output_type": "execute_result"
        }
      ],
      "source": [
        "datos = [19, 2, 13, 0, 23, 29, 11, 7]\n",
        "\n",
        "serie = pd.Series(datos)\n",
        "\n",
        "serie"
      ]
    },
    {
      "cell_type": "code",
      "source": [],
      "metadata": {
        "id": "F4z_CX8xEFKb"
      },
      "execution_count": null,
      "outputs": []
    },
    {
      "cell_type": "markdown",
      "metadata": {
        "id": "86x1lE1mnzFM"
      },
      "source": [
        "# Ejercicio 17 (Opcional)\n",
        "\n",
        "Obtener estádisticas básicas de un objeto Series con el método `describe`.\n",
        "\n"
      ]
    },
    {
      "cell_type": "code",
      "source": [],
      "metadata": {
        "id": "4-FYPzMVES97"
      },
      "execution_count": null,
      "outputs": []
    },
    {
      "cell_type": "markdown",
      "metadata": {
        "id": "wmch2ixmnzFO"
      },
      "source": [
        "## Ejercicio 18\n",
        "\n",
        "Obtener los elementos impares de un objeto Series numérico.\n",
        "\n"
      ]
    },
    {
      "cell_type": "code",
      "execution_count": null,
      "metadata": {
        "id": "mPQedUAunzFP",
        "outputId": "3e16a10c-f28c-448d-913f-1161722e7a7d"
      },
      "outputs": [
        {
          "data": {
            "text/plain": [
              "[0, 1, 2, 3, 4, 5, 6, 7, 8, 9]"
            ]
          },
          "execution_count": 80,
          "metadata": {},
          "output_type": "execute_result"
        }
      ],
      "source": [
        "datos = [19, 2, 13, 0, 23, 29, 11, 7]\n",
        "\n",
        "serie = pd.Series(datos)\n",
        "\n",
        "serie"
      ]
    },
    {
      "cell_type": "code",
      "source": [],
      "metadata": {
        "id": "HWKLpdFfFZ2J"
      },
      "execution_count": null,
      "outputs": []
    },
    {
      "cell_type": "markdown",
      "metadata": {
        "id": "ipTFhcALnzFQ"
      },
      "source": [
        "# Ejercicio 19 (Opcional)\n",
        "\n",
        "Extraer los datos de un objeto Series como un objeto NumPy.\n",
        "\n"
      ]
    },
    {
      "cell_type": "code",
      "source": [],
      "metadata": {
        "id": "6_3Nvd22HDwz"
      },
      "execution_count": null,
      "outputs": []
    },
    {
      "cell_type": "markdown",
      "metadata": {
        "id": "l6hnL8xlnzFU"
      },
      "source": [
        "# Ejercicio 20\n",
        "\n",
        "Comprobar si una serie contiene valores NaN. Ya existe una función que lo comprueba.\n",
        "\n"
      ]
    },
    {
      "cell_type": "code",
      "execution_count": null,
      "metadata": {
        "id": "_XRfmsGonzFV"
      },
      "outputs": [],
      "source": [
        "datos = ['20', '30', '', '50', 100]\n",
        "\n",
        "serie = pd.Series(datos)\n",
        "serie = pd.to_numeric(serie)\n",
        "\n",
        "serie"
      ]
    },
    {
      "cell_type": "code",
      "source": [],
      "metadata": {
        "id": "a9qwzdxvLtcy"
      },
      "execution_count": null,
      "outputs": []
    },
    {
      "cell_type": "markdown",
      "metadata": {
        "id": "qlpoTR4DnzFY"
      },
      "source": [
        "# Ejercicio 21 (Opcional)\n",
        "\n",
        "Operaciones aritméticas con métodos de la clase Series: `add`, `subtract`, `multiply`, y `divide`.\n",
        "\n"
      ]
    },
    {
      "cell_type": "code",
      "execution_count": null,
      "metadata": {
        "id": "_EE4fBVUnzFZ",
        "outputId": "c9e4ac30-4d04-445a-9db1-9fd522c027fc"
      },
      "outputs": [
        {
          "data": {
            "text/plain": [
              "0     1\n",
              "1     2\n",
              "2     3\n",
              "3     4\n",
              "4     5\n",
              "5     6\n",
              "6     7\n",
              "7     8\n",
              "8     9\n",
              "9    10\n",
              "dtype: int64"
            ]
          },
          "execution_count": 99,
          "metadata": {},
          "output_type": "execute_result"
        }
      ],
      "source": [
        "serie1 = pd.Series(list(range(1, 11)))\n",
        "\n",
        "serie1"
      ]
    },
    {
      "cell_type": "code",
      "execution_count": null,
      "metadata": {
        "id": "bOnodcASnzFZ",
        "outputId": "70a2c3d0-9273-4164-bc89-8b093e890889"
      },
      "outputs": [
        {
          "data": {
            "text/plain": [
              "0    10\n",
              "1     9\n",
              "2     8\n",
              "3     7\n",
              "4     6\n",
              "5     5\n",
              "6     4\n",
              "7     3\n",
              "8     2\n",
              "9     1\n",
              "dtype: int64"
            ]
          },
          "execution_count": 100,
          "metadata": {},
          "output_type": "execute_result"
        }
      ],
      "source": [
        "serie2 = pd.Series(list(range(10, 0, -1)))\n",
        "\n",
        "serie2"
      ]
    },
    {
      "cell_type": "code",
      "source": [],
      "metadata": {
        "id": "xMLPxRhFN53b"
      },
      "execution_count": null,
      "outputs": []
    },
    {
      "cell_type": "markdown",
      "metadata": {
        "id": "MCZDXXNynzFb"
      },
      "source": [
        "# Ejercicio 22\n",
        "\n",
        "Eliminar los valores NaN de una serie con el método dropna.\n",
        "\n"
      ]
    },
    {
      "cell_type": "code",
      "execution_count": null,
      "metadata": {
        "id": "5S6OVgDunzFb",
        "outputId": "db7e1e19-5601-4f9f-eae2-456b256cd4a4"
      },
      "outputs": [
        {
          "data": {
            "text/plain": [
              "0       2.3\n",
              "1    Python\n",
              "2        90\n",
              "3       100\n",
              "4       NaN\n",
              "5       0.5\n",
              "6        .9\n",
              "dtype: object"
            ]
          },
          "execution_count": 106,
          "metadata": {},
          "output_type": "execute_result"
        }
      ],
      "source": [
        "datos = ['2.3', '90', '100', np.nan, '0.5', '.9']\n",
        "\n",
        "serie = pd.Series(datos)\n",
        "\n",
        "serie"
      ]
    },
    {
      "cell_type": "code",
      "source": [],
      "metadata": {
        "id": "HzeThDH9OW5O"
      },
      "execution_count": null,
      "outputs": []
    },
    {
      "cell_type": "markdown",
      "metadata": {
        "id": "w9Cn3Z9enzFl"
      },
      "source": [
        "# Ejercicio 23\n",
        "\n",
        "Reemplazar los valores NaN (null) de una serie con un valor arbitrario.\n",
        "\n"
      ]
    },
    {
      "cell_type": "code",
      "execution_count": null,
      "metadata": {
        "id": "o_yHg59VnzFm",
        "outputId": "62e64ee1-ba16-42df-873e-c73e8da84f02",
        "colab": {
          "base_uri": "https://localhost:8080/"
        }
      },
      "outputs": [
        {
          "output_type": "execute_result",
          "data": {
            "text/plain": [
              "0         1\n",
              "1         3\n",
              "2         7\n",
              "3        11\n",
              "4    Python\n",
              "5      -0.5\n",
              "6       NaN\n",
              "dtype: object"
            ]
          },
          "metadata": {},
          "execution_count": 5
        }
      ],
      "source": [
        "datos = [1, 3, np.nan, 11, 'Python', '-0.5', np.nan]\n",
        "\n",
        "serie = pd.Series(datos)\n",
        "\n",
        "serie"
      ]
    }
  ],
  "metadata": {
    "kernelspec": {
      "display_name": "Python 3",
      "language": "python",
      "name": "python3"
    },
    "language_info": {
      "codemirror_mode": {
        "name": "ipython",
        "version": 3
      },
      "file_extension": ".py",
      "mimetype": "text/x-python",
      "name": "python",
      "nbconvert_exporter": "python",
      "pygments_lexer": "ipython3",
      "version": "3.7.3"
    },
    "colab": {
      "provenance": [],
      "include_colab_link": true
    }
  },
  "nbformat": 4,
  "nbformat_minor": 0
}