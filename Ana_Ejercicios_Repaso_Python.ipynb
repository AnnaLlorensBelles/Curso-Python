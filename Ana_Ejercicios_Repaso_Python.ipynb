{
  "nbformat": 4,
  "nbformat_minor": 0,
  "metadata": {
    "colab": {
      "provenance": [],
      "include_colab_link": true
    },
    "kernelspec": {
      "name": "python3",
      "display_name": "Python 3"
    },
    "language_info": {
      "name": "python"
    }
  },
  "cells": [
    {
      "cell_type": "markdown",
      "metadata": {
        "id": "view-in-github",
        "colab_type": "text"
      },
      "source": [
        "<a href=\"https://colab.research.google.com/github/AnnaLlorensBelles/Curso-Python/blob/main/Ana_Ejercicios_Repaso_Python.ipynb\" target=\"_parent\"><img src=\"https://colab.research.google.com/assets/colab-badge.svg\" alt=\"Open In Colab\"/></a>"
      ]
    },
    {
      "cell_type": "markdown",
      "source": [
        "# Ejercicios Python"
      ],
      "metadata": {
        "id": "NQeVzr-Ynwyv"
      }
    },
    {
      "cell_type": "markdown",
      "source": [
        "## Ejercicio 1"
      ],
      "metadata": {
        "id": "w01ELBSZn07F"
      }
    },
    {
      "cell_type": "markdown",
      "source": [
        "Contar cuántos valores hay en una lista de enteros. Contar solo hasta el número 0."
      ],
      "metadata": {
        "id": "U7-2M7gEn371"
      }
    },
    {
      "cell_type": "code",
      "execution_count": 4,
      "metadata": {
        "id": "5RrjJK_annn6",
        "colab": {
          "base_uri": "https://localhost:8080/"
        },
        "outputId": "06de9bb9-62d3-4b8a-e8ba-55adc16323a7"
      },
      "outputs": [
        {
          "output_type": "stream",
          "name": "stdout",
          "text": [
            "5\n"
          ]
        }
      ],
      "source": [
        "nums = [6,8,5,2,0,6,5]\n",
        "contador = 0\n",
        "#Respuesta:\n",
        "#Debe dar 5\n",
        "for numeros in nums:\n",
        "  contador = contador + 1\n",
        "  if numeros == 0:\n",
        "    break\n",
        "print (contador)"
      ]
    },
    {
      "cell_type": "markdown",
      "source": [
        "## Ejercicio 2"
      ],
      "metadata": {
        "id": "Y-8ydW3wqsjJ"
      }
    },
    {
      "cell_type": "markdown",
      "source": [
        "Sumar los valores que hay en una lista de enteros. Sumar solo hasta el número 0."
      ],
      "metadata": {
        "id": "PwrM0MZ5q-a-"
      }
    },
    {
      "cell_type": "code",
      "source": [
        "nums = [6,8,5,2,0,6,5]\n",
        "suma = 0\n",
        "#Respuesta:\n",
        "#Debe dar 21\n",
        "for numero in nums:\n",
        "  suma= suma+numero\n",
        "  if numero == 0:\n",
        "    break\n",
        "print (suma)"
      ],
      "metadata": {
        "colab": {
          "base_uri": "https://localhost:8080/"
        },
        "id": "CSMOFqOHq9tH",
        "outputId": "44f172bb-9df3-4725-85c1-533b12b55f8f"
      },
      "execution_count": 12,
      "outputs": [
        {
          "output_type": "stream",
          "name": "stdout",
          "text": [
            "21\n"
          ]
        }
      ]
    },
    {
      "cell_type": "markdown",
      "source": [
        "## Ejercicio 3"
      ],
      "metadata": {
        "id": "G9vesbhJrmiJ"
      }
    },
    {
      "cell_type": "markdown",
      "source": [
        "Calcular el valor medio de los valores que hay en una lista de enteros. Calcular solo hasta el número 0."
      ],
      "metadata": {
        "id": "aeDrH-RKrmiU"
      }
    },
    {
      "cell_type": "code",
      "source": [
        "nums = [6,8,5,2,0,6,5]\n",
        "suma = 0\n",
        "contador = 0\n",
        "#Respuesta:\n",
        "#Debe dar 4.2\n",
        "for numero in nums:\n",
        "  contador = contador + 1\n",
        "  suma = suma + numero\n",
        "  if numero == 0:\n",
        "    break\n",
        "media= suma/contador\n",
        "print (media)\n",
        "\n",
        "# si el if numero == 0: break lo hubiésemos puesto antes de contador y suma, el valor 0 no estaría incluido ni en el contador ni en la media."
      ],
      "metadata": {
        "colab": {
          "base_uri": "https://localhost:8080/"
        },
        "id": "wNXaojvbr60X",
        "outputId": "f4d15332-e033-4968-f5db-97d957e6a8d2"
      },
      "execution_count": 13,
      "outputs": [
        {
          "output_type": "stream",
          "name": "stdout",
          "text": [
            "4.2\n"
          ]
        }
      ]
    },
    {
      "cell_type": "markdown",
      "source": [
        "## Ejercicio 4"
      ],
      "metadata": {
        "id": "Ih5L_91Ntx_n"
      }
    },
    {
      "cell_type": "markdown",
      "source": [
        "Elimina las \"a\" del siguiente texto:"
      ],
      "metadata": {
        "id": "yUtastJVtx_o"
      }
    },
    {
      "cell_type": "code",
      "source": [
        "texto = \"Las variables son almacenes de datos que persisten en memoria. Cuando accedemos a una variable en realidad estamos accediendo a un puntero en memoria que almacena el valor que nos interesa. \"\n",
        "#Respuesta\n",
        "textofinal = texto.replace(\"a\",\"\")\n",
        "print(textofinal)"
      ],
      "metadata": {
        "id": "ju3tY5J6tHiW",
        "colab": {
          "base_uri": "https://localhost:8080/"
        },
        "outputId": "da110a7b-dff9-4a4a-d985-d2a2c0db0418"
      },
      "execution_count": 20,
      "outputs": [
        {
          "output_type": "stream",
          "name": "stdout",
          "text": [
            "Ls vribles son lmcenes de dtos que persisten en memori. Cundo ccedemos  un vrible en relidd estmos ccediendo  un puntero en memori que lmcen el vlor que nos interes. \n"
          ]
        }
      ]
    },
    {
      "cell_type": "code",
      "source": [
        "#otra forma de hacerlo:\n",
        "texto = \"Las variables son almacenes de datos que persisten en memoria. Cuando accedemos a una variable en realidad estamos accediendo a un puntero en memoria que almacena el valor que nos interesa. \"\n",
        "resultado = ''\n",
        "for letra in texto:\n",
        "  #if letra != 'a':\n",
        "    if letra == 'a':\n",
        "        continue\n",
        "    else:\n",
        "        resultado = resultado + letra\n",
        "print(resultado)\n",
        "\n",
        "\n"
      ],
      "metadata": {
        "colab": {
          "base_uri": "https://localhost:8080/"
        },
        "id": "Ty27JB9mYOtt",
        "outputId": "b4d9a76c-1f83-4e10-80d7-091f637f3569"
      },
      "execution_count": 36,
      "outputs": [
        {
          "output_type": "stream",
          "name": "stdout",
          "text": [
            "Ls vribles son lmcenes de dtos que persisten en memori. Cundo ccedemos  un vrible en relidd estmos ccediendo  un puntero en memori que lmcen el vlor que nos interes. \n"
          ]
        }
      ]
    },
    {
      "cell_type": "markdown",
      "source": [
        "## Ejercicio 5 (Opcional)"
      ],
      "metadata": {
        "id": "qh409wYK3mOm"
      }
    },
    {
      "cell_type": "markdown",
      "source": [
        "Crear una lista a partir de una secuencia de valores de entrada que acabe en *.\n",
        "Una vez creada, modificarla elevando al cuadrado todos los pares y al cubo todos los impares, y mostrarla."
      ],
      "metadata": {
        "id": "QvSFihRU3mOo"
      }
    },
    {
      "cell_type": "code",
      "source": [
        "lista = [3,56,6,7,\"*\",2,78]\n",
        "nuevalista = []\n",
        "#Respuesta:\n",
        "#Debe dar [27, 3136, 36, 343]\n",
        "for dato in lista:\n",
        "    if dato == '*':\n",
        "        break\n",
        "# cuando ponemos dos condicionales que no tienen nada que ver uno con otro, volvemos a usar if.\n",
        "    if dato % 2 == 0:\n",
        "        dato = dato ** 2\n",
        "    elif dato % 2 != 0: # en lugar de elif podríamos poner else o if también.\n",
        "        dato = dato ** 3\n",
        "    nuevalista.append(dato)\n",
        "print(nuevalista)"
      ],
      "metadata": {
        "colab": {
          "base_uri": "https://localhost:8080/"
        },
        "id": "BdMEMdyT3wEo",
        "outputId": "11859136-639a-48b1-a506-1c7364262761"
      },
      "execution_count": 41,
      "outputs": [
        {
          "output_type": "stream",
          "name": "stdout",
          "text": [
            "[27, 3136, 36, 343]\n"
          ]
        }
      ]
    },
    {
      "cell_type": "code",
      "source": [
        "# con el siguiente código vamos a comprobar si un número es par o no.\n",
        "variable = 80\n",
        "variable % 2 == 0 # son pares los divisibles por 2 con resto 0\n",
        "variable % 2 != 0 # son impares los que al dividir por 2 tienen resto diferente a 0"
      ],
      "metadata": {
        "colab": {
          "base_uri": "https://localhost:8080/"
        },
        "id": "sP40IkG3Azth",
        "outputId": "d8c15b06-5900-485a-b12e-4e7c34d4034d"
      },
      "execution_count": 38,
      "outputs": [
        {
          "output_type": "execute_result",
          "data": {
            "text/plain": [
              "True"
            ]
          },
          "metadata": {},
          "execution_count": 38
        }
      ]
    }
  ]
}